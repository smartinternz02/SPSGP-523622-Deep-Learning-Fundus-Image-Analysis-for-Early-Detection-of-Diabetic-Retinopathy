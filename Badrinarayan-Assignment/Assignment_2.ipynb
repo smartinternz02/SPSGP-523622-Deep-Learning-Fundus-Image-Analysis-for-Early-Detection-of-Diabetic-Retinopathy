{
  "cells": [
    {
      "cell_type": "markdown",
      "source": [
        "Task 1: Data Pre-processing\n",
        "\n",
        "First, we need to download and load the dataset. You can download the dataset from the provided Kaggle link and place it in your working directory."
      ],
      "metadata": {
        "id": "5aTp0UsNK1sv"
      },
      "id": "5aTp0UsNK1sv"
    },
    {
      "cell_type": "code",
      "execution_count": null,
      "id": "ab4e8750",
      "metadata": {
        "id": "ab4e8750"
      },
      "outputs": [],
      "source": [
        "import pandas as pd\n",
        "import tensorflow as tf\n",
        "from tensorflow import keras\n",
        "from tensorflow.keras import Sequential\n",
        "from tensorflow.keras.layers import Flatten,Dense\n",
        "from sklearn.preprocessing import LabelEncoder, StandardScaler\n",
        "from sklearn.model_selection import train_test_split\n",
        "import numpy as np\n",
        "import seaborn as sb\n",
        "import matplotlib.pyplot as mp"
      ]
    },
    {
      "cell_type": "code",
      "execution_count": null,
      "id": "6f0a21cf",
      "metadata": {
        "colab": {
          "base_uri": "https://localhost:8080/",
          "height": 206
        },
        "id": "6f0a21cf",
        "outputId": "085a01a0-d593-4227-97e4-b8869f0a98de"
      },
      "outputs": [
        {
          "output_type": "execute_result",
          "data": {
            "text/plain": [
              "   Age Sex      BP Cholesterol  Na_to_K   Drug\n",
              "0   23   F    HIGH        HIGH   25.355  DrugY\n",
              "1   47   M     LOW        HIGH   13.093  drugC\n",
              "2   47   M     LOW        HIGH   10.114  drugC\n",
              "3   28   F  NORMAL        HIGH    7.798  drugX\n",
              "4   61   F     LOW        HIGH   18.043  DrugY"
            ],
            "text/html": [
              "\n",
              "  <div id=\"df-6fe5057e-f869-4fb1-818d-39464e5d4833\">\n",
              "    <div class=\"colab-df-container\">\n",
              "      <div>\n",
              "<style scoped>\n",
              "    .dataframe tbody tr th:only-of-type {\n",
              "        vertical-align: middle;\n",
              "    }\n",
              "\n",
              "    .dataframe tbody tr th {\n",
              "        vertical-align: top;\n",
              "    }\n",
              "\n",
              "    .dataframe thead th {\n",
              "        text-align: right;\n",
              "    }\n",
              "</style>\n",
              "<table border=\"1\" class=\"dataframe\">\n",
              "  <thead>\n",
              "    <tr style=\"text-align: right;\">\n",
              "      <th></th>\n",
              "      <th>Age</th>\n",
              "      <th>Sex</th>\n",
              "      <th>BP</th>\n",
              "      <th>Cholesterol</th>\n",
              "      <th>Na_to_K</th>\n",
              "      <th>Drug</th>\n",
              "    </tr>\n",
              "  </thead>\n",
              "  <tbody>\n",
              "    <tr>\n",
              "      <th>0</th>\n",
              "      <td>23</td>\n",
              "      <td>F</td>\n",
              "      <td>HIGH</td>\n",
              "      <td>HIGH</td>\n",
              "      <td>25.355</td>\n",
              "      <td>DrugY</td>\n",
              "    </tr>\n",
              "    <tr>\n",
              "      <th>1</th>\n",
              "      <td>47</td>\n",
              "      <td>M</td>\n",
              "      <td>LOW</td>\n",
              "      <td>HIGH</td>\n",
              "      <td>13.093</td>\n",
              "      <td>drugC</td>\n",
              "    </tr>\n",
              "    <tr>\n",
              "      <th>2</th>\n",
              "      <td>47</td>\n",
              "      <td>M</td>\n",
              "      <td>LOW</td>\n",
              "      <td>HIGH</td>\n",
              "      <td>10.114</td>\n",
              "      <td>drugC</td>\n",
              "    </tr>\n",
              "    <tr>\n",
              "      <th>3</th>\n",
              "      <td>28</td>\n",
              "      <td>F</td>\n",
              "      <td>NORMAL</td>\n",
              "      <td>HIGH</td>\n",
              "      <td>7.798</td>\n",
              "      <td>drugX</td>\n",
              "    </tr>\n",
              "    <tr>\n",
              "      <th>4</th>\n",
              "      <td>61</td>\n",
              "      <td>F</td>\n",
              "      <td>LOW</td>\n",
              "      <td>HIGH</td>\n",
              "      <td>18.043</td>\n",
              "      <td>DrugY</td>\n",
              "    </tr>\n",
              "  </tbody>\n",
              "</table>\n",
              "</div>\n",
              "      <button class=\"colab-df-convert\" onclick=\"convertToInteractive('df-6fe5057e-f869-4fb1-818d-39464e5d4833')\"\n",
              "              title=\"Convert this dataframe to an interactive table.\"\n",
              "              style=\"display:none;\">\n",
              "        \n",
              "  <svg xmlns=\"http://www.w3.org/2000/svg\" height=\"24px\"viewBox=\"0 0 24 24\"\n",
              "       width=\"24px\">\n",
              "    <path d=\"M0 0h24v24H0V0z\" fill=\"none\"/>\n",
              "    <path d=\"M18.56 5.44l.94 2.06.94-2.06 2.06-.94-2.06-.94-.94-2.06-.94 2.06-2.06.94zm-11 1L8.5 8.5l.94-2.06 2.06-.94-2.06-.94L8.5 2.5l-.94 2.06-2.06.94zm10 10l.94 2.06.94-2.06 2.06-.94-2.06-.94-.94-2.06-.94 2.06-2.06.94z\"/><path d=\"M17.41 7.96l-1.37-1.37c-.4-.4-.92-.59-1.43-.59-.52 0-1.04.2-1.43.59L10.3 9.45l-7.72 7.72c-.78.78-.78 2.05 0 2.83L4 21.41c.39.39.9.59 1.41.59.51 0 1.02-.2 1.41-.59l7.78-7.78 2.81-2.81c.8-.78.8-2.07 0-2.86zM5.41 20L4 18.59l7.72-7.72 1.47 1.35L5.41 20z\"/>\n",
              "  </svg>\n",
              "      </button>\n",
              "      \n",
              "  <style>\n",
              "    .colab-df-container {\n",
              "      display:flex;\n",
              "      flex-wrap:wrap;\n",
              "      gap: 12px;\n",
              "    }\n",
              "\n",
              "    .colab-df-convert {\n",
              "      background-color: #E8F0FE;\n",
              "      border: none;\n",
              "      border-radius: 50%;\n",
              "      cursor: pointer;\n",
              "      display: none;\n",
              "      fill: #1967D2;\n",
              "      height: 32px;\n",
              "      padding: 0 0 0 0;\n",
              "      width: 32px;\n",
              "    }\n",
              "\n",
              "    .colab-df-convert:hover {\n",
              "      background-color: #E2EBFA;\n",
              "      box-shadow: 0px 1px 2px rgba(60, 64, 67, 0.3), 0px 1px 3px 1px rgba(60, 64, 67, 0.15);\n",
              "      fill: #174EA6;\n",
              "    }\n",
              "\n",
              "    [theme=dark] .colab-df-convert {\n",
              "      background-color: #3B4455;\n",
              "      fill: #D2E3FC;\n",
              "    }\n",
              "\n",
              "    [theme=dark] .colab-df-convert:hover {\n",
              "      background-color: #434B5C;\n",
              "      box-shadow: 0px 1px 3px 1px rgba(0, 0, 0, 0.15);\n",
              "      filter: drop-shadow(0px 1px 2px rgba(0, 0, 0, 0.3));\n",
              "      fill: #FFFFFF;\n",
              "    }\n",
              "  </style>\n",
              "\n",
              "      <script>\n",
              "        const buttonEl =\n",
              "          document.querySelector('#df-6fe5057e-f869-4fb1-818d-39464e5d4833 button.colab-df-convert');\n",
              "        buttonEl.style.display =\n",
              "          google.colab.kernel.accessAllowed ? 'block' : 'none';\n",
              "\n",
              "        async function convertToInteractive(key) {\n",
              "          const element = document.querySelector('#df-6fe5057e-f869-4fb1-818d-39464e5d4833');\n",
              "          const dataTable =\n",
              "            await google.colab.kernel.invokeFunction('convertToInteractive',\n",
              "                                                     [key], {});\n",
              "          if (!dataTable) return;\n",
              "\n",
              "          const docLinkHtml = 'Like what you see? Visit the ' +\n",
              "            '<a target=\"_blank\" href=https://colab.research.google.com/notebooks/data_table.ipynb>data table notebook</a>'\n",
              "            + ' to learn more about interactive tables.';\n",
              "          element.innerHTML = '';\n",
              "          dataTable['output_type'] = 'display_data';\n",
              "          await google.colab.output.renderOutput(dataTable, element);\n",
              "          const docLink = document.createElement('div');\n",
              "          docLink.innerHTML = docLinkHtml;\n",
              "          element.appendChild(docLink);\n",
              "        }\n",
              "      </script>\n",
              "    </div>\n",
              "  </div>\n",
              "  "
            ]
          },
          "metadata": {},
          "execution_count": 2
        }
      ],
      "source": [
        "df=pd.read_csv(\"/content/sample_data/drug200.csv\")\n",
        "df.head()"
      ]
    },
    {
      "cell_type": "markdown",
      "source": [
        "#PRE-PROCESSING:"
      ],
      "metadata": {
        "id": "rHJKyTM2Lcky"
      },
      "id": "rHJKyTM2Lcky"
    },
    {
      "cell_type": "code",
      "execution_count": null,
      "id": "fac157cf",
      "metadata": {
        "colab": {
          "base_uri": "https://localhost:8080/"
        },
        "id": "fac157cf",
        "outputId": "a9404daa-eae1-4611-f9a0-fa568853c04e"
      },
      "outputs": [
        {
          "output_type": "execute_result",
          "data": {
            "text/plain": [
              "(200, 6)"
            ]
          },
          "metadata": {},
          "execution_count": 3
        }
      ],
      "source": [
        "df.shape"
      ]
    },
    {
      "cell_type": "code",
      "execution_count": null,
      "id": "41ff55e4",
      "metadata": {
        "colab": {
          "base_uri": "https://localhost:8080/"
        },
        "id": "41ff55e4",
        "outputId": "b9d79930-4cf6-4465-8239-db7383beea78"
      },
      "outputs": [
        {
          "output_type": "execute_result",
          "data": {
            "text/plain": [
              "Age            0\n",
              "Sex            0\n",
              "BP             0\n",
              "Cholesterol    0\n",
              "Na_to_K        0\n",
              "Drug           0\n",
              "dtype: int64"
            ]
          },
          "metadata": {},
          "execution_count": 4
        }
      ],
      "source": [
        "df.isnull().sum() #no null values"
      ]
    },
    {
      "cell_type": "code",
      "execution_count": null,
      "id": "c02d700b",
      "metadata": {
        "colab": {
          "base_uri": "https://localhost:8080/"
        },
        "id": "c02d700b",
        "outputId": "51fd1213-ad26-42ad-815b-71f18707a2c5"
      },
      "outputs": [
        {
          "output_type": "stream",
          "name": "stdout",
          "text": [
            "<class 'pandas.core.frame.DataFrame'>\n",
            "RangeIndex: 200 entries, 0 to 199\n",
            "Data columns (total 6 columns):\n",
            " #   Column       Non-Null Count  Dtype  \n",
            "---  ------       --------------  -----  \n",
            " 0   Age          200 non-null    int64  \n",
            " 1   Sex          200 non-null    object \n",
            " 2   BP           200 non-null    object \n",
            " 3   Cholesterol  200 non-null    object \n",
            " 4   Na_to_K      200 non-null    float64\n",
            " 5   Drug         200 non-null    object \n",
            "dtypes: float64(1), int64(1), object(4)\n",
            "memory usage: 9.5+ KB\n"
          ]
        },
        {
          "output_type": "execute_result",
          "data": {
            "text/plain": [
              "(None,\n",
              "               Age     Na_to_K\n",
              " count  200.000000  200.000000\n",
              " mean    44.315000   16.084485\n",
              " std     16.544315    7.223956\n",
              " min     15.000000    6.269000\n",
              " 25%     31.000000   10.445500\n",
              " 50%     45.000000   13.936500\n",
              " 75%     58.000000   19.380000\n",
              " max     74.000000   38.247000)"
            ]
          },
          "metadata": {},
          "execution_count": 5
        }
      ],
      "source": [
        "df.info(),df.describe()"
      ]
    },
    {
      "cell_type": "markdown",
      "source": [
        "#PLOTS-VISUALIZATION:"
      ],
      "metadata": {
        "id": "FETJ9zs2LiAd"
      },
      "id": "FETJ9zs2LiAd"
    },
    {
      "cell_type": "code",
      "execution_count": null,
      "id": "a7b71448",
      "metadata": {
        "colab": {
          "base_uri": "https://localhost:8080/",
          "height": 466
        },
        "id": "a7b71448",
        "outputId": "1991bca9-9964-41a0-a4a7-70b550ad89d8"
      },
      "outputs": [
        {
          "output_type": "execute_result",
          "data": {
            "text/plain": [
              "<Axes: xlabel='Drug', ylabel='count'>"
            ]
          },
          "metadata": {},
          "execution_count": 6
        },
        {
          "output_type": "display_data",
          "data": {
            "text/plain": [
              "<Figure size 640x480 with 1 Axes>"
            ],
            "image/png": "[encoded data removed]"
          },
          "metadata": {}
        }
      ],
      "source": [
        "sb.countplot(x='Drug',data=df,hue='Drug')\n"
      ]
    },
    {
      "cell_type": "markdown",
      "source": [
        "#SEGREGATION OF DATASET"
      ],
      "metadata": {
        "id": "lTshO0L7LkRC"
      },
      "id": "lTshO0L7LkRC"
    },
    {
      "cell_type": "code",
      "execution_count": null,
      "id": "dde0ef40",
      "metadata": {
        "id": "dde0ef40"
      },
      "outputs": [],
      "source": [
        "X = df.drop(columns = ['Drug'],axis=1)\n",
        "Y = df['Drug']"
      ]
    },
    {
      "cell_type": "code",
      "execution_count": null,
      "id": "2fbd4240",
      "metadata": {
        "colab": {
          "base_uri": "https://localhost:8080/"
        },
        "id": "2fbd4240",
        "outputId": "20c66f18-173f-42a1-efa3-906142f5aed0"
      },
      "outputs": [
        {
          "output_type": "stream",
          "name": "stdout",
          "text": [
            "5\n"
          ]
        }
      ],
      "source": [
        "Y_class = len(np.unique(Y))\n",
        "print(Y_class)"
      ]
    },
    {
      "cell_type": "markdown",
      "source": [
        "#CATEGORICAL-NUMERICAL ENCODING:"
      ],
      "metadata": {
        "id": "8FlRGUNyLrUy"
      },
      "id": "8FlRGUNyLrUy"
    },
    {
      "cell_type": "code",
      "execution_count": null,
      "id": "be739438",
      "metadata": {
        "id": "be739438"
      },
      "outputs": [],
      "source": [
        "X = pd.get_dummies(X,columns=['Sex','BP','Cholesterol'],drop_first = True)\n",
        "\n",
        "LE = LabelEncoder()\n",
        "Y = LE.fit_transform(Y)"
      ]
    },
    {
      "cell_type": "code",
      "execution_count": null,
      "id": "3865f91e",
      "metadata": {
        "id": "3865f91e"
      },
      "outputs": [],
      "source": [
        "X_train, X_test, Y_train, Y_test = train_test_split (X,Y,test_size=0.5,random_state=2)"
      ]
    },
    {
      "cell_type": "markdown",
      "source": [
        "#FEATURE-SCALING TO IMPROVE OPTIMIZATION"
      ],
      "metadata": {
        "id": "H1-oAsMwLtop"
      },
      "id": "H1-oAsMwLtop"
    },
    {
      "cell_type": "code",
      "execution_count": null,
      "id": "92d42f43",
      "metadata": {
        "id": "92d42f43"
      },
      "outputs": [],
      "source": [
        "from sklearn.preprocessing import StandardScaler\n",
        "sc = StandardScaler()\n",
        "X_train = sc.fit_transform(X_train)\n",
        "X_test = sc.fit_transform(X_test)"
      ]
    },
    {
      "cell_type": "code",
      "execution_count": null,
      "id": "2b9dfa29",
      "metadata": {
        "id": "2b9dfa29"
      },
      "outputs": [],
      "source": [
        "Y_train = keras.utils.to_categorical(Y_train)\n",
        "Y_test = keras.utils.to_categorical(Y_test)"
      ]
    },
    {
      "cell_type": "markdown",
      "source": [
        "Task 2: Build the ANN model\n",
        "Now, we can build the artificial neural network (ANN) model using Keras, which is a high-level deep learning library in Python."
      ],
      "metadata": {
        "id": "SUvP3zE3MmaT"
      },
      "id": "SUvP3zE3MmaT"
    },
    {
      "cell_type": "markdown",
      "source": [
        "#MODEL BUILDING:"
      ],
      "metadata": {
        "id": "lReNkiEiLvQw"
      },
      "id": "lReNkiEiLvQw"
    },
    {
      "cell_type": "code",
      "execution_count": null,
      "id": "cc934e26",
      "metadata": {
        "colab": {
          "base_uri": "https://localhost:8080/"
        },
        "id": "cc934e26",
        "outputId": "3ea19835-ad6d-4b0f-fc0d-70d44011f787"
      },
      "outputs": [
        {
          "output_type": "stream",
          "name": "stdout",
          "text": [
            "Model: \"sequential\"\n",
            "_________________________________________________________________\n",
            " Layer (type)                Output Shape              Param #   \n",
            "=================================================================\n",
            " dense (Dense)               (None, 64)                448       \n",
            "                                                                 \n",
            " dense_1 (Dense)             (None, 128)               8320      \n",
            "                                                                 \n",
            " dense_2 (Dense)             (None, 256)               33024     \n",
            "                                                                 \n",
            " dense_3 (Dense)             (None, 5)                 1285      \n",
            "                                                                 \n",
            "=================================================================\n",
            "Total params: 43,077\n",
            "Trainable params: 43,077\n",
            "Non-trainable params: 0\n",
            "_________________________________________________________________\n"
          ]
        }
      ],
      "source": [
        "model = keras.Sequential([\n",
        "    keras.layers.Dense(units=64, activation='relu', input_shape=(X_train.shape[1],)),\n",
        "    keras.layers.Dense(units=128, activation='relu'),\n",
        "    keras.layers.Dense(units=256, activation='relu'),\n",
        "    keras.layers.Dense(units=len(df['Drug'].unique()), activation='softmax')\n",
        "])\n",
        "\n",
        "# Print the model summary\n",
        "model.summary()"
      ]
    },
    {
      "cell_type": "code",
      "execution_count": null,
      "id": "68018a96",
      "metadata": {
        "id": "68018a96"
      },
      "outputs": [],
      "source": [
        "model.compile(loss='categorical_crossentropy', optimizer='adam', metrics=['accuracy'])"
      ]
    },
    {
      "cell_type": "code",
      "execution_count": null,
      "id": "6342845f",
      "metadata": {
        "colab": {
          "base_uri": "https://localhost:8080/"
        },
        "id": "6342845f",
        "outputId": "b0b1a94e-4788-41cf-b26b-f87dab7f7072"
      },
      "outputs": [
        {
          "output_type": "stream",
          "name": "stdout",
          "text": [
            "Epoch 1/48\n",
            "17/17 [==============================] - 2s 5ms/step - loss: 1.3330 - accuracy: 0.5700\n",
            "Epoch 2/48\n",
            "17/17 [==============================] - 0s 3ms/step - loss: 0.8340 - accuracy: 0.6900\n",
            "Epoch 3/48\n",
            "17/17 [==============================] - 0s 8ms/step - loss: 0.5581 - accuracy: 0.7500\n",
            "Epoch 4/48\n",
            "17/17 [==============================] - 0s 10ms/step - loss: 0.3343 - accuracy: 0.9100\n",
            "Epoch 5/48\n",
            "17/17 [==============================] - 0s 8ms/step - loss: 0.2030 - accuracy: 0.9600\n",
            "Epoch 6/48\n",
            "17/17 [==============================] - 0s 6ms/step - loss: 0.1159 - accuracy: 0.9800\n",
            "Epoch 7/48\n",
            "17/17 [==============================] - 0s 13ms/step - loss: 0.0849 - accuracy: 0.9800\n",
            "Epoch 8/48\n",
            "17/17 [==============================] - 0s 7ms/step - loss: 0.0685 - accuracy: 0.9800\n",
            "Epoch 9/48\n",
            "17/17 [==============================] - 0s 5ms/step - loss: 0.0497 - accuracy: 0.9800\n",
            "Epoch 10/48\n",
            "17/17 [==============================] - 0s 4ms/step - loss: 0.0420 - accuracy: 0.9900\n",
            "Epoch 11/48\n",
            "17/17 [==============================] - 0s 4ms/step - loss: 0.0325 - accuracy: 1.0000\n",
            "Epoch 12/48\n",
            "17/17 [==============================] - 0s 4ms/step - loss: 0.0282 - accuracy: 0.9900\n",
            "Epoch 13/48\n",
            "17/17 [==============================] - 0s 5ms/step - loss: 0.0231 - accuracy: 1.0000\n",
            "Epoch 14/48\n",
            "17/17 [==============================] - 0s 5ms/step - loss: 0.0207 - accuracy: 0.9900\n",
            "Epoch 15/48\n",
            "17/17 [==============================] - 0s 5ms/step - loss: 0.0188 - accuracy: 1.0000\n",
            "Epoch 16/48\n",
            "17/17 [==============================] - 0s 5ms/step - loss: 0.0141 - accuracy: 1.0000\n",
            "Epoch 17/48\n",
            "17/17 [==============================] - 0s 6ms/step - loss: 0.0150 - accuracy: 1.0000\n",
            "Epoch 18/48\n",
            "17/17 [==============================] - 0s 4ms/step - loss: 0.0123 - accuracy: 1.0000\n",
            "Epoch 19/48\n",
            "17/17 [==============================] - 0s 6ms/step - loss: 0.0103 - accuracy: 1.0000\n",
            "Epoch 20/48\n",
            "17/17 [==============================] - 0s 9ms/step - loss: 0.0114 - accuracy: 1.0000\n",
            "Epoch 21/48\n",
            "17/17 [==============================] - 0s 5ms/step - loss: 0.0080 - accuracy: 1.0000\n",
            "Epoch 22/48\n",
            "17/17 [==============================] - 0s 4ms/step - loss: 0.0072 - accuracy: 1.0000\n",
            "Epoch 23/48\n",
            "17/17 [==============================] - 0s 5ms/step - loss: 0.0068 - accuracy: 1.0000\n",
            "Epoch 24/48\n",
            "17/17 [==============================] - 0s 5ms/step - loss: 0.0059 - accuracy: 1.0000\n",
            "Epoch 25/48\n",
            "17/17 [==============================] - 0s 6ms/step - loss: 0.0050 - accuracy: 1.0000\n",
            "Epoch 26/48\n",
            "17/17 [==============================] - 0s 5ms/step - loss: 0.0055 - accuracy: 1.0000\n",
            "Epoch 27/48\n",
            "17/17 [==============================] - 0s 4ms/step - loss: 0.0039 - accuracy: 1.0000\n",
            "Epoch 28/48\n",
            "17/17 [==============================] - 0s 4ms/step - loss: 0.0058 - accuracy: 1.0000\n",
            "Epoch 29/48\n",
            "17/17 [==============================] - 0s 7ms/step - loss: 0.0058 - accuracy: 1.0000\n",
            "Epoch 30/48\n",
            "17/17 [==============================] - 0s 6ms/step - loss: 0.0053 - accuracy: 1.0000\n",
            "Epoch 31/48\n",
            "17/17 [==============================] - 0s 7ms/step - loss: 0.0108 - accuracy: 0.9900\n",
            "Epoch 32/48\n",
            "17/17 [==============================] - 0s 6ms/step - loss: 0.0033 - accuracy: 1.0000\n",
            "Epoch 33/48\n",
            "17/17 [==============================] - 0s 3ms/step - loss: 0.0053 - accuracy: 1.0000\n",
            "Epoch 34/48\n",
            "17/17 [==============================] - 0s 5ms/step - loss: 0.0057 - accuracy: 1.0000\n",
            "Epoch 35/48\n",
            "17/17 [==============================] - 0s 7ms/step - loss: 0.0033 - accuracy: 1.0000\n",
            "Epoch 36/48\n",
            "17/17 [==============================] - 0s 10ms/step - loss: 0.0052 - accuracy: 1.0000\n",
            "Epoch 37/48\n",
            "17/17 [==============================] - 0s 9ms/step - loss: 0.0028 - accuracy: 1.0000\n",
            "Epoch 38/48\n",
            "17/17 [==============================] - 0s 12ms/step - loss: 0.0023 - accuracy: 1.0000\n",
            "Epoch 39/48\n",
            "17/17 [==============================] - 0s 16ms/step - loss: 0.0014 - accuracy: 1.0000\n",
            "Epoch 40/48\n",
            "17/17 [==============================] - 0s 8ms/step - loss: 0.0013 - accuracy: 1.0000\n",
            "Epoch 41/48\n",
            "17/17 [==============================] - 0s 7ms/step - loss: 0.0012 - accuracy: 1.0000\n",
            "Epoch 42/48\n",
            "17/17 [==============================] - 0s 7ms/step - loss: 0.0011 - accuracy: 1.0000\n",
            "Epoch 43/48\n",
            "17/17 [==============================] - 0s 9ms/step - loss: 0.0011 - accuracy: 1.0000\n",
            "Epoch 44/48\n",
            "17/17 [==============================] - 0s 8ms/step - loss: 0.0011 - accuracy: 1.0000\n",
            "Epoch 45/48\n",
            "17/17 [==============================] - 0s 6ms/step - loss: 0.0010 - accuracy: 1.0000\n",
            "Epoch 46/48\n",
            "17/17 [==============================] - 0s 5ms/step - loss: 9.2540e-04 - accuracy: 1.0000\n",
            "Epoch 47/48\n",
            "17/17 [==============================] - 0s 7ms/step - loss: 8.8046e-04 - accuracy: 1.0000\n",
            "Epoch 48/48\n",
            "17/17 [==============================] - 0s 6ms/step - loss: 8.4122e-04 - accuracy: 1.0000\n"
          ]
        },
        {
          "output_type": "execute_result",
          "data": {
            "text/plain": [
              "<keras.callbacks.History at 0x7f333d965030>"
            ]
          },
          "metadata": {},
          "execution_count": 15
        }
      ],
      "source": [
        "model.fit(X_train,Y_train,epochs=48,batch_size=6)"
      ]
    },
    {
      "cell_type": "markdown",
      "source": [
        "Task 3: Test the model with random data\n",
        "To test the model with random data, we can generate some random samples and feed them into the model for prediction."
      ],
      "metadata": {
        "id": "_3FY8BHcMpMt"
      },
      "id": "_3FY8BHcMpMt"
    },
    {
      "cell_type": "code",
      "execution_count": null,
      "id": "2ece23bb",
      "metadata": {
        "colab": {
          "base_uri": "https://localhost:8080/"
        },
        "id": "2ece23bb",
        "outputId": "e6e5271b-f73b-493a-936c-73a80e020b19"
      },
      "outputs": [
        {
          "output_type": "stream",
          "name": "stdout",
          "text": [
            "4/4 [==============================] - 1s 6ms/step - loss: 0.8799 - accuracy: 0.8500\n",
            "Test Accuracy: [0.8798981308937073, 0.8500000238418579]\n"
          ]
        }
      ],
      "source": [
        "accuracy = model.evaluate(X_test, Y_test)\n",
        "print(\"Test Accuracy:\", accuracy)"
      ]
    }
  ],
  "metadata": {
    "kernelspec": {
      "display_name": "Python 3 (ipykernel)",
      "language": "python",
      "name": "python3"
    },
    "language_info": {
      "codemirror_mode": {
        "name": "ipython",
        "version": 3
      },
      "file_extension": ".py",
      "mimetype": "text/x-python",
      "name": "python",
      "nbconvert_exporter": "python",
      "pygments_lexer": "ipython3",
      "version": "3.9.12"
    },
    "colab": {
      "provenance": []
    }
  },
  "nbformat": 4,
  "nbformat_minor": 5
}